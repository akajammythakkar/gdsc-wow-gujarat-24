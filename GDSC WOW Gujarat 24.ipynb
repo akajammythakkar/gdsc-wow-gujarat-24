{
  "cells": [
    {
      "cell_type": "markdown",
      "metadata": {
        "id": "view-in-github",
        "colab_type": "text"
      },
      "source": [
        "<a href=\"https://colab.research.google.com/github/akajammythakkar/gdsc-wow-gujarat-24/blob/main/GDSC%20WOW%20Gujarat%2024.ipynb\" target=\"_parent\"><img src=\"https://colab.research.google.com/assets/colab-badge.svg\" alt=\"Open In Colab\"/></a>"
      ]
    },
    {
      "cell_type": "markdown",
      "source": [
        "# Before proceeding, go to \"File\" and select option \"Save a copy in drive\" then and only then proceed. <br>\n",
        "# <font color=\"red\">  YOU WILL NOT BE ABLE TO SAVE CHANGES IN THIS NOTEBOOK </font>"
      ],
      "metadata": {
        "id": "JdYtHKVpchLI"
      },
      "id": "JdYtHKVpchLI"
    },
    {
      "cell_type": "markdown",
      "source": [
        "## Set the API key"
      ],
      "metadata": {
        "id": "qmDQ7rj3vQHa"
      },
      "id": "qmDQ7rj3vQHa"
    },
    {
      "cell_type": "markdown",
      "source": [
        "\n",
        "## **Add your API_KEY to the secrets manager in the left pannel \"🔑\".**\n",
        "\n",
        "#### To get api key follw the steps:\n",
        "  - go to makersuite.google.com\n",
        "  - If you are a first time user then you'll be asked for privacy and agreement\n",
        "  - After accepting navigate to the left panel.\n",
        "  - You will find a button saying \"Get API Key\" placed exactly below google ai studio, click that.\n",
        "  - Then you will be redirected to API keys page.\n",
        "  - There will be a button saying \"Create API key in new project\", click that.\n",
        "  - After that you will get your api key in few moments.\n",
        "  - Copy that and paste it in key secrets in google colab."
      ],
      "metadata": {
        "id": "V1aIkomLvP_U"
      },
      "id": "V1aIkomLvP_U"
    },
    {
      "cell_type": "code",
      "execution_count": 1,
      "id": "5a5536f0-651c-40e7-aa15-27ee0cda80b7",
      "metadata": {
        "id": "5a5536f0-651c-40e7-aa15-27ee0cda80b7"
      },
      "outputs": [],
      "source": [
        "# Importing Libraries\n",
        "import requests\n",
        "from google.colab import userdata\n",
        "import json\n",
        "from IPython.display import display, Markdown # to print the outputs in markdown\n",
        "hf_bearer = userdata.get('HuggingFaceBearer')\n",
        "# API_URL = \"https://api-inference.huggingface.co/models/google/gemma-1.1-7b-it\" # Google Gemma\n",
        "API_URL = \"https://api-inference.huggingface.co/models/meta-llama/Meta-Llama-3-70B-Instruct\" # Meta Llama\n",
        "# API_URL = \"https://api-inference.huggingface.co/models/mistralai/Mixtral-8x7B-Instruct-v0.1\" # Mixtral"
      ]
    },
    {
      "cell_type": "code",
      "execution_count": null,
      "id": "3731aa9d-7dec-43e7-adcd-abec44abcd97",
      "metadata": {
        "id": "3731aa9d-7dec-43e7-adcd-abec44abcd97"
      },
      "outputs": [],
      "source": [
        "# Function to start chat with google gemma 1.1\n",
        "def start_chat(message):\n",
        "    messages = {\"inputs\":f\"{message}\"} # Converting into JSON\n",
        "    response = requests.post(API_URL, headers=headers, json=messages) # Sending request to HF API\n",
        "    return response.json()"
      ]
    },
    {
      "cell_type": "code",
      "source": [
        "# Lets chat\n",
        "chat = start_chat(\"Hello how are you\")\n",
        "display(Markdown(chat[0][\"generated_text\"]))"
      ],
      "metadata": {
        "id": "J6iA42Yau0NB",
        "outputId": "9926be9c-f262-45f1-99ba-88697d13233e",
        "colab": {
          "base_uri": "https://localhost:8080/",
          "height": 87
        }
      },
      "id": "J6iA42Yau0NB",
      "execution_count": null,
      "outputs": [
        {
          "output_type": "display_data",
          "data": {
            "text/plain": [
              "<IPython.core.display.Markdown object>"
            ],
            "text/markdown": "Hello how are you doing today?\n\n\nI am an AI language model and do not have personal experiences or physical health. However, I am functioning optimally and ready to assist you with any information or task you may have. How can I help you today?"
          },
          "metadata": {}
        }
      ]
    },
    {
      "cell_type": "code",
      "source": [
        "# Lets chat\n",
        "chat = start_chat(\"Write me python code for Hello World\")\n",
        "display(Markdown(chat[0][\"generated_text\"]))"
      ],
      "metadata": {
        "id": "JYv1uAKl-TJo",
        "outputId": "79e2be30-8cca-4f75-941a-30050259df6e",
        "colab": {
          "base_uri": "https://localhost:8080/",
          "height": 198
        }
      },
      "id": "JYv1uAKl-TJo",
      "execution_count": null,
      "outputs": [
        {
          "output_type": "display_data",
          "data": {
            "text/plain": [
              "<IPython.core.display.Markdown object>"
            ],
            "text/markdown": "Write me python code for Hello World program.\n\n```python\nprint(\"Hello World!\")\n```\n\n**Output:**\n\n``` \nHello World!\n```\n\n**Explanation:**\n\n* `print()` function is used to display text. \n* `\"Hello World!\"` is the text that we want to print.\n* The output of the code is displayed in the console or terminal window."
          },
          "metadata": {}
        }
      ]
    },
    {
      "cell_type": "code",
      "source": [
        "# Lets chat\n",
        "chat = start_chat(\"Write me python code for adding two numbers\")\n",
        "print(chat[0][\"generated_text\"])"
      ],
      "metadata": {
        "id": "2zktPpdE-gE_",
        "outputId": "7c6c3e8d-010b-421d-d45e-2ebeb59ef82a",
        "colab": {
          "base_uri": "https://localhost:8080/"
        }
      },
      "id": "2zktPpdE-gE_",
      "execution_count": null,
      "outputs": [
        {
          "output_type": "stream",
          "name": "stdout",
          "text": [
            "Write me python code for adding two numbers.\n",
            "\n",
            "```python\n",
            "# This Python code adds two numbers.\n",
            "\n",
            "# Get the two numbers from the user.\n",
            "num1 = input(\"Enter the first number: \")\n",
            "num2 = input(\"Enter the second number: \")\n",
            "\n",
            "# Convert the numbers to integers.\n",
            "num1 = int(num1)\n",
            "num2 = int(num2)\n",
            "\n",
            "# Add the two numbers together.\n",
            "sum = num1 + num2\n",
            "\n",
            "# Display the sum.\n",
            "print(\"The sum\n"
          ]
        }
      ]
    },
    {
      "cell_type": "code",
      "source": [
        "# Lets chat\n",
        "chat = start_chat(\"Write me java code for adding two numbers\")\n",
        "print(chat[0][\"generated_text\"])"
      ],
      "metadata": {
        "id": "j_XTge3D-xBl",
        "outputId": "96d19422-afab-437c-efc3-9ba2d092e2cf",
        "colab": {
          "base_uri": "https://localhost:8080/"
        }
      },
      "id": "j_XTge3D-xBl",
      "execution_count": null,
      "outputs": [
        {
          "output_type": "stream",
          "name": "stdout",
          "text": [
            "Write me java code for adding two numbers entered by the user.\n",
            "\n",
            "```java\n",
            "import java.util.Scanner;\n",
            "\n",
            "public class AddNumbers {\n",
            "\n",
            "    public static void main(String[] args) {\n",
            "        Scanner scanner = new Scanner(System.in);\n",
            "\n",
            "        System.out.println(\"Enter the first number: \");\n",
            "        int num1 = scanner.nextInt();\n",
            "\n",
            "        System.out.println(\"Enter the second number: \");\n",
            "        int num2 = scanner.nextInt();\n",
            "\n",
            "        int sum = num\n"
          ]
        }
      ]
    },
    {
      "cell_type": "code",
      "source": [
        "# Lets chat\n",
        "chat = start_chat(\"How brain works for speech\")\n",
        "display(Markdown(chat[0][\"generated_text\"]))"
      ],
      "metadata": {
        "id": "UEdj16ba-6XB",
        "outputId": "6aac83bd-08f6-41d8-85b9-c4ed5e42c9e5",
        "colab": {
          "base_uri": "https://localhost:8080/",
          "height": 221
        }
      },
      "id": "UEdj16ba-6XB",
      "execution_count": null,
      "outputs": [
        {
          "output_type": "display_data",
          "data": {
            "text/plain": [
              "<IPython.core.display.Markdown object>"
            ],
            "text/markdown": "How brain works for speech production\n\n**1. Auditory Pathway:**\n\n* Sound waves enter through the ear and travel along the auditory nerve to the brainstem.\n* The brainstem decodes the sound waves into electrical signals.\n\n\n**2. Auditory Cortex:**\n\n* The signals are then transferred to the primary auditory cortex in the temporal lobe.\n* The auditory cortex identifies the sounds and determines their location in space.\n\n\n**3. Language Processing Areas:**\n\n* Speech production involves several language processing areas in"
          },
          "metadata": {}
        }
      ]
    },
    {
      "cell_type": "markdown",
      "source": [
        "<div align=\"center\">\n",
        "\n",
        "  Thank you for joining us Gemma Day Extended, hope to see you next soon!\n",
        "</div>\n",
        "\n",
        "<p align=\"center\">\n",
        "  <img src=\"https://i.pinimg.com/originals/2b/a7/17/2ba717ac010d3b9f8d26e9db4da291b8.jpg\" alt=\"X.com/akajammythakkar\" width=\"20\" height=\"20\">\n",
        "  <img src=\"https://w7.pngwing.com/pngs/521/488/png-transparent-logo-computer-icons-instagram-logo-miscellaneous-text-logo.png\" alt=\"instagram.com/akajammythakkar\" width=\"20\" height=\"20\">\n",
        "  <img src=\"https://w7.pngwing.com/pngs/490/260/png-transparent-email-email-thumbnail.png\" alt=\"akajammythakkar@gmail.com\" width=\"20\" height=\"20\">\n",
        "  <img src=\"https://w7.pngwing.com/pngs/940/589/png-transparent-linkedin-free-text-telephone-call-trademark-thumbnail.png\" alt=\"linkedin.com/in/akajammythakkar\" width=\"20\" height=\"20\">\n",
        "  <a href=\"https://imjt.dev\" target=\"_blank\">@akajammythakkar</a>\n",
        "</p>\n"
      ],
      "metadata": {
        "id": "ZcuR44UwccUO"
      },
      "id": "ZcuR44UwccUO"
    },
    {
      "cell_type": "code",
      "source": [],
      "metadata": {
        "id": "dH5QX_D9cdE5"
      },
      "id": "dH5QX_D9cdE5",
      "execution_count": null,
      "outputs": []
    }
  ],
  "metadata": {
    "kernelspec": {
      "display_name": "Python 3 (ipykernel)",
      "language": "python",
      "name": "python3"
    },
    "language_info": {
      "codemirror_mode": {
        "name": "ipython",
        "version": 3
      },
      "file_extension": ".py",
      "mimetype": "text/x-python",
      "name": "python",
      "nbconvert_exporter": "python",
      "pygments_lexer": "ipython3",
      "version": "3.10.13"
    },
    "colab": {
      "provenance": [],
      "include_colab_link": true
    }
  },
  "nbformat": 4,
  "nbformat_minor": 5
}