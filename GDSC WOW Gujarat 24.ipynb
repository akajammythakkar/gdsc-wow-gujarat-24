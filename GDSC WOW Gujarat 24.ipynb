{
  "cells": [
    {
      "cell_type": "markdown",
      "metadata": {
        "id": "view-in-github",
        "colab_type": "text"
      },
      "source": [
        "<a href=\"https://colab.research.google.com/github/akajammythakkar/gdsc-wow-gujarat-24/blob/main/GDSC%20WOW%20Gujarat%2024.ipynb\" target=\"_parent\"><img src=\"https://colab.research.google.com/assets/colab-badge.svg\" alt=\"Open In Colab\"/></a>"
      ]
    },
    {
      "cell_type": "markdown",
      "source": [
        "# Before proceeding, go to \"File\" and select option \"Save a copy in drive\" then and only then proceed. <br>\n",
        "# <font color=\"red\">  YOU WILL NOT BE ABLE TO SAVE CHANGES IN THIS NOTEBOOK </font>"
      ],
      "metadata": {
        "id": "JdYtHKVpchLI"
      },
      "id": "JdYtHKVpchLI"
    },
    {
      "cell_type": "markdown",
      "source": [
        "## Set the API key"
      ],
      "metadata": {
        "id": "qmDQ7rj3vQHa"
      },
      "id": "qmDQ7rj3vQHa"
    },
    {
      "cell_type": "markdown",
      "source": [
        "\n",
        "## **Add your API_KEY to the secrets manager in the left pannel \"🔑\".**\n",
        "\n",
        "#### To get api key follw the steps:\n",
        "  - go to makersuite.google.com\n",
        "  - If you are a first time user then you'll be asked for privacy and agreement\n",
        "  - After accepting navigate to the left panel.\n",
        "  - You will find a button saying \"Get API Key\" placed exactly below google ai studio, click that.\n",
        "  - Then you will be redirected to API keys page.\n",
        "  - There will be a button saying \"Create API key in new project\", click that.\n",
        "  - After that you will get your api key in few moments.\n",
        "  - Copy that and paste it in key secrets in google colab."
      ],
      "metadata": {
        "id": "V1aIkomLvP_U"
      },
      "id": "V1aIkomLvP_U"
    },
    {
      "cell_type": "code",
      "execution_count": 1,
      "id": "5a5536f0-651c-40e7-aa15-27ee0cda80b7",
      "metadata": {
        "id": "5a5536f0-651c-40e7-aa15-27ee0cda80b7"
      },
      "outputs": [],
      "source": [
        "# Importing Libraries\n",
        "import requests\n",
        "from google.colab import userdata\n",
        "import json\n",
        "from IPython.display import display, Markdown # to print the outputs in markdown\n",
        "hf_bearer = userdata.get('HuggingFaceBearer')\n",
        "API_URL = \"https://api-inference.huggingface.co/models/google/gemma-1.1-7b-it\" # Google Gemma\n",
        "# API_URL = \"https://api-inference.huggingface.co/models/meta-llama/Meta-Llama-3-70B-Instruct\" # Meta Llama\n",
        "# API_URL = \"https://api-inference.huggingface.co/models/mistralai/Mixtral-8x7B-Instruct-v0.1\" # Mixtral\n",
        "choice = 0"
      ]
    },
    {
      "cell_type": "code",
      "execution_count": 2,
      "id": "3731aa9d-7dec-43e7-adcd-abec44abcd97",
      "metadata": {
        "id": "3731aa9d-7dec-43e7-adcd-abec44abcd97"
      },
      "outputs": [],
      "source": [
        "# Function to start chat with google gemma 1.1\n",
        "def start_chat(message):\n",
        "    messages = {\"inputs\":f\"{message}\"} # Converting into JSON\n",
        "    headers = {\"Authorization\": f\"{hf_bearer}\"}\n",
        "    response = requests.post(API_URL, headers=headers, json=messages) # Sending request to HF API\n",
        "    return response.json()"
      ]
    },
    {
      "cell_type": "code",
      "source": [
        "while(choice != 2):\n",
        "    try:\n",
        "        ques = input(\"Your Question Here: \")\n",
        "        response = start_chat(ques)\n",
        "        display(Markdown(response[0][\"generated_text\"]))\n",
        "        print('\\n\\n\\x1b[33mTo continue conversation type \"1\" else type \"2\"\\x1b[0m')\n",
        "        print('\\x1b[31m\\x1b[6;1mAny other response will continue the conversation \\x1b[0m ')\n",
        "        choice = int(input('\\nEnter your choice here: '))\n",
        "        print()\n",
        "        if(choice == 2):\n",
        "            print(\"\"\"\\x1b[32mAs you selected 2 the chat has ended. \\nThank you, to restart chat, run this cell again.\n",
        "                  \\x1b[0m\"\"\")\n",
        "            choice = 0\n",
        "            break\n",
        "    except Exception as e:\n",
        "        print(\"\\n\\n\",e)"
      ],
      "metadata": {
        "id": "afCeEeemtCKv",
        "outputId": "a821327f-2bf1-4f53-d144-2173298ce3eb",
        "colab": {
          "base_uri": "https://localhost:8080/",
          "height": 278
        }
      },
      "id": "afCeEeemtCKv",
      "execution_count": 3,
      "outputs": [
        {
          "name": "stdout",
          "output_type": "stream",
          "text": [
            "Your Question Here: Hi how are you..?\n"
          ]
        },
        {
          "output_type": "display_data",
          "data": {
            "text/plain": [
              "<IPython.core.display.Markdown object>"
            ],
            "text/markdown": "Hi how are you..? 😊\n\nI am an AI language model and do not have personal feelings or physical form. However, I am programmed to respond in a helpful and informative way. How can I assist you today?"
          },
          "metadata": {}
        },
        {
          "output_type": "stream",
          "name": "stdout",
          "text": [
            "\n",
            "\n",
            "\u001b[33mTo continue conversation type \"1\" else type \"2\"\u001b[0m\n",
            "\u001b[31m\u001b[6;1mAny other response will continue the conversation \u001b[0m \n",
            "\n",
            "Enter your choice here: 2\n",
            "\n",
            "\u001b[32mAs you selected 2 the chat has ended. \n",
            "Thank you, to restart chat, run this cell again.\n",
            "                  \u001b[0m\n"
          ]
        }
      ]
    },
    {
      "cell_type": "markdown",
      "source": [
        "<div align=\"center\">\n",
        "\n",
        "  Thank you for joining us GDSC WOW Gujarat 2024, hope to see you next soon!\n",
        "</div>\n",
        "\n",
        "<p align=\"center\">\n",
        "  <img src=\"https://i.pinimg.com/originals/2b/a7/17/2ba717ac010d3b9f8d26e9db4da291b8.jpg\" alt=\"X.com/akajammythakkar\" width=\"20\" height=\"20\">\n",
        "  <img src=\"https://w7.pngwing.com/pngs/521/488/png-transparent-logo-computer-icons-instagram-logo-miscellaneous-text-logo.png\" alt=\"instagram.com/akajammythakkar\" width=\"20\" height=\"20\">\n",
        "  <img src=\"https://w7.pngwing.com/pngs/490/260/png-transparent-email-email-thumbnail.png\" alt=\"akajammythakkar@gmail.com\" width=\"20\" height=\"20\">\n",
        "  <img src=\"https://w7.pngwing.com/pngs/940/589/png-transparent-linkedin-free-text-telephone-call-trademark-thumbnail.png\" alt=\"linkedin.com/in/akajammythakkar\" width=\"20\" height=\"20\">\n",
        "  <a href=\"https://imjt.dev\" target=\"_blank\">@akajammythakkar</a>\n",
        "</p>\n"
      ],
      "metadata": {
        "id": "ZcuR44UwccUO"
      },
      "id": "ZcuR44UwccUO"
    },
    {
      "cell_type": "code",
      "source": [],
      "metadata": {
        "id": "dH5QX_D9cdE5"
      },
      "id": "dH5QX_D9cdE5",
      "execution_count": null,
      "outputs": []
    }
  ],
  "metadata": {
    "kernelspec": {
      "display_name": "Python 3 (ipykernel)",
      "language": "python",
      "name": "python3"
    },
    "language_info": {
      "codemirror_mode": {
        "name": "ipython",
        "version": 3
      },
      "file_extension": ".py",
      "mimetype": "text/x-python",
      "name": "python",
      "nbconvert_exporter": "python",
      "pygments_lexer": "ipython3",
      "version": "3.10.13"
    },
    "colab": {
      "provenance": [],
      "include_colab_link": true
    }
  },
  "nbformat": 4,
  "nbformat_minor": 5
}